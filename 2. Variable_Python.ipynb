{
 "cells": [
  {
   "cell_type": "markdown",
   "id": "e61d49f9",
   "metadata": {},
   "source": [
    "# Variable"
   ]
  },
  {
   "cell_type": "code",
   "execution_count": 2,
   "id": "fbc8a7de",
   "metadata": {},
   "outputs": [],
   "source": [
    "# variable are containers for storing values\n",
    "# there is no command for creating variable in python they are created as moment as you assign values to it "
   ]
  },
  {
   "cell_type": "code",
   "execution_count": 4,
   "id": "82bad03a",
   "metadata": {},
   "outputs": [
    {
     "name": "stdout",
     "output_type": "stream",
     "text": [
      "Gurjot\n"
     ]
    }
   ],
   "source": [
    "x  = 10 # x is int now\n",
    "x = \"Gurjot\" # x is now str\n",
    "print(x)"
   ]
  },
  {
   "cell_type": "markdown",
   "id": "a4e19ce6",
   "metadata": {},
   "source": [
    "## Casting"
   ]
  },
  {
   "cell_type": "code",
   "execution_count": 7,
   "id": "34e78f21",
   "metadata": {},
   "outputs": [
    {
     "name": "stdout",
     "output_type": "stream",
     "text": [
      "3\n",
      "3\n",
      "3.0\n"
     ]
    }
   ],
   "source": [
    "x = str(3)  \n",
    "y = int(3)\n",
    "z = float(3)\n",
    "print(x)\n",
    "print(y)\n",
    "print(z)"
   ]
  },
  {
   "cell_type": "code",
   "execution_count": 11,
   "id": "2b9ad2db",
   "metadata": {},
   "outputs": [
    {
     "name": "stdout",
     "output_type": "stream",
     "text": [
      "<class 'str'>\n",
      "<class 'int'>\n",
      "<class 'float'>\n"
     ]
    }
   ],
   "source": [
    "print(type(x))\n",
    "print(type(y))\n",
    "print(type(z))"
   ]
  },
  {
   "cell_type": "markdown",
   "id": "b908a354",
   "metadata": {},
   "source": [
    "## Variable names"
   ]
  },
  {
   "cell_type": "markdown",
   "id": "815eaed6",
   "metadata": {},
   "source": [
    "1. Variable names cannot start with numbers and special character (%$#@*) etc . \n",
    "2. only start with the A-z letter or _ underscore\n",
    "3. can only contain A-z , 0-9 and _ \n",
    "4. variable names are case sensitive\n",
    "\n",
    "                                                                   "
   ]
  },
  {
   "cell_type": "markdown",
   "id": "9a01b246",
   "metadata": {},
   "source": [
    "### camel case\n",
    "myName = \"Gurjot\" ; "
   ]
  },
  {
   "cell_type": "markdown",
   "id": "7c8a79e2",
   "metadata": {},
   "source": [
    "### pascal case\n",
    "MyName = \"Gurjot\";"
   ]
  },
  {
   "cell_type": "markdown",
   "id": "ae48eea0",
   "metadata": {},
   "source": [
    "### snake case\n",
    "my_name = \"Gurjot\";"
   ]
  },
  {
   "cell_type": "markdown",
   "id": "a2abc778",
   "metadata": {},
   "source": [
    "## Assign mutliple values"
   ]
  },
  {
   "cell_type": "code",
   "execution_count": 19,
   "id": "88f5ce77",
   "metadata": {},
   "outputs": [
    {
     "name": "stdout",
     "output_type": "stream",
     "text": [
      "gurjot\n",
      "singh\n",
      "is king\n"
     ]
    }
   ],
   "source": [
    "# assinging multiple values to the multiple variable\n",
    "x,y,z = \"gurjot\" ,\"singh\",\"is king\"\n",
    "print(x)\n",
    "print(y)\n",
    "print(z)"
   ]
  },
  {
   "cell_type": "code",
   "execution_count": 16,
   "id": "5d231074",
   "metadata": {},
   "outputs": [
    {
     "name": "stdout",
     "output_type": "stream",
     "text": [
      "Gurjot\n",
      "singh\n",
      "is king\n"
     ]
    }
   ],
   "source": [
    "# unpacking a variable\n",
    "fruits = [\"Gurjot\",\"singh\",\"is king\"]\n",
    "x,y,z=fruits\n",
    "print(x)\n",
    "print(y)\n",
    "print(z)"
   ]
  },
  {
   "cell_type": "code",
   "execution_count": 18,
   "id": "b882fcf2",
   "metadata": {},
   "outputs": [
    {
     "name": "stdout",
     "output_type": "stream",
     "text": [
      "Gurjot\n",
      "Gurjot\n",
      "Gurjot\n"
     ]
    }
   ],
   "source": [
    "# one value to mutliple variables\n",
    "x=y=z = \"Gurjot\"\n",
    "print(x)\n",
    "print(y)\n",
    "print(z)"
   ]
  },
  {
   "cell_type": "code",
   "execution_count": 22,
   "id": "d0d1b37a",
   "metadata": {},
   "outputs": [
    {
     "name": "stdout",
     "output_type": "stream",
     "text": [
      "gurjot Singh is king\n",
      "gurjotSinghis king\n"
     ]
    }
   ],
   "source": [
    "### output a variable\n",
    "x= \"gurjot\"\n",
    "y = \"Singh\"\n",
    "z =\"is king\"\n",
    "print(x,y,z)\n",
    "print(x+y+z) # works as + operator and concatenate the values"
   ]
  },
  {
   "cell_type": "markdown",
   "id": "6181931a",
   "metadata": {},
   "source": [
    "## Global variable"
   ]
  },
  {
   "cell_type": "code",
   "execution_count": 30,
   "id": "4e6c27c8",
   "metadata": {},
   "outputs": [
    {
     "ename": "NameError",
     "evalue": "name 'w' is not defined",
     "output_type": "error",
     "traceback": [
      "\u001b[1;31m---------------------------------------------------------------------------\u001b[0m",
      "\u001b[1;31mNameError\u001b[0m                                 Traceback (most recent call last)",
      "Cell \u001b[1;32mIn[30], line 4\u001b[0m\n\u001b[0;32m      2\u001b[0m \u001b[38;5;28;01mdef\u001b[39;00m \u001b[38;5;21mfunc\u001b[39m():\n\u001b[0;32m      3\u001b[0m     w \u001b[38;5;241m=\u001b[39m \u001b[38;5;124m\"\u001b[39m\u001b[38;5;124mSingh\u001b[39m\u001b[38;5;124m\"\u001b[39m \u001b[38;5;66;03m#local variable cannot be accessed outside of this function\u001b[39;00m\n\u001b[1;32m----> 4\u001b[0m \u001b[38;5;28mprint\u001b[39m(\u001b[43mw\u001b[49m)\n",
      "\u001b[1;31mNameError\u001b[0m: name 'w' is not defined"
     ]
    }
   ],
   "source": [
    "\n",
    "x = \"Gurjot\"  # global variable\n",
    "def func():\n",
    "    w = \"Singh\" #local variable cannot be accessed outside of this function\n",
    "print(w)\n"
   ]
  },
  {
   "cell_type": "code",
   "execution_count": 37,
   "id": "0db1adfd",
   "metadata": {},
   "outputs": [
    {
     "name": "stdout",
     "output_type": "stream",
     "text": [
      "Singh\n"
     ]
    }
   ],
   "source": [
    "\n",
    "\n",
    "x = \"Gurjot\"  # global variable\n",
    "def func():\n",
    "   global w \n",
    "   w = \"Singh\" #local variable cannot be accessed outside of this function\n",
    "func()\n",
    "print(w)\n",
    "# we have to first create a variable with then assign value to it "
   ]
  },
  {
   "cell_type": "code",
   "execution_count": null,
   "id": "a6ea0db8",
   "metadata": {},
   "outputs": [],
   "source": []
  }
 ],
 "metadata": {
  "kernelspec": {
   "display_name": "Python 3 (ipykernel)",
   "language": "python",
   "name": "python3"
  },
  "language_info": {
   "codemirror_mode": {
    "name": "ipython",
    "version": 3
   },
   "file_extension": ".py",
   "mimetype": "text/x-python",
   "name": "python",
   "nbconvert_exporter": "python",
   "pygments_lexer": "ipython3",
   "version": "3.9.12"
  }
 },
 "nbformat": 4,
 "nbformat_minor": 5
}
