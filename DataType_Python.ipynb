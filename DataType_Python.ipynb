{
 "cells": [
  {
   "cell_type": "markdown",
   "id": "14d6b7f1",
   "metadata": {},
   "source": [
    "# Built in data type"
   ]
  },
  {
   "cell_type": "markdown",
   "id": "90e7f612",
   "metadata": {},
   "source": [
    "1.text : str \n",
    "2.number : int , float , complex \n",
    "3.sequence : lists, tuple , range \n",
    "4.Mapping : set , frozenset \n",
    "5.Boolean : bool \n",
    "6.Binary Types: bytes, bytearray , memoryview \n",
    "7.None type : NoneType "
   ]
  },
  {
   "cell_type": "code",
   "execution_count": 2,
   "id": "49f578ab",
   "metadata": {},
   "outputs": [
    {
     "name": "stdout",
     "output_type": "stream",
     "text": [
      "<class 'str'>\n"
     ]
    }
   ],
   "source": [
    "## getting the data type\n",
    "x = 's'\n",
    "print(type(x))"
   ]
  },
  {
   "cell_type": "code",
   "execution_count": 5,
   "id": "86b37563",
   "metadata": {},
   "outputs": [
    {
     "name": "stdout",
     "output_type": "stream",
     "text": [
      "Hello world\n"
     ]
    }
   ],
   "source": [
    "# str\n",
    "x= \"Hello world\" or 'helloworld'\n",
    "print(x)\n"
   ]
  },
  {
   "cell_type": "code",
   "execution_count": 6,
   "id": "31ec30c5",
   "metadata": {},
   "outputs": [],
   "source": [
    "# int\n",
    "x = 20"
   ]
  },
  {
   "cell_type": "code",
   "execution_count": 8,
   "id": "c02cd3c5",
   "metadata": {},
   "outputs": [],
   "source": [
    "# float\n",
    "y = 20.5\n"
   ]
  },
  {
   "cell_type": "code",
   "execution_count": 13,
   "id": "3d9c0f8c",
   "metadata": {},
   "outputs": [
    {
     "name": "stdout",
     "output_type": "stream",
     "text": [
      "(20+14j)\n"
     ]
    }
   ],
   "source": [
    "# complex number\n",
    "x = 20+14j\n",
    "print(x)"
   ]
  },
  {
   "cell_type": "code",
   "execution_count": 14,
   "id": "4d972341",
   "metadata": {},
   "outputs": [],
   "source": [
    "# list\n",
    "x = [\"apple\" , \"banana\" , \"cherry\" ]"
   ]
  },
  {
   "cell_type": "code",
   "execution_count": 16,
   "id": "a5aa3b88",
   "metadata": {},
   "outputs": [],
   "source": [
    "# tuples\n",
    "x = (\"apple\",\"banana\",\"cherry\")"
   ]
  },
  {
   "cell_type": "code",
   "execution_count": 18,
   "id": "c26ffcc9",
   "metadata": {},
   "outputs": [
    {
     "name": "stdout",
     "output_type": "stream",
     "text": [
      "range(0, 6)\n"
     ]
    }
   ],
   "source": [
    "# range\n",
    "x = range(6)\n",
    "print(x)"
   ]
  },
  {
   "cell_type": "code",
   "execution_count": 19,
   "id": "88a5d5a2",
   "metadata": {},
   "outputs": [
    {
     "name": "stdout",
     "output_type": "stream",
     "text": [
      "{'name': 'John', 'age': 36}\n"
     ]
    }
   ],
   "source": [
    "# dictionary \n",
    "# key: value pairs\n",
    "\n",
    "x = {\"name\" : \"John\" ,\"age\" : 36}\n",
    "print(x)"
   ]
  },
  {
   "cell_type": "code",
   "execution_count": 21,
   "id": "50f41614",
   "metadata": {},
   "outputs": [
    {
     "name": "stdout",
     "output_type": "stream",
     "text": [
      "{1, 2, 3, 4}\n"
     ]
    }
   ],
   "source": [
    "## set = unique values\n",
    "x = {1 , 1,2,3, 2 , 3 , 4 }\n",
    "print(x)"
   ]
  },
  {
   "cell_type": "code",
   "execution_count": 23,
   "id": "ab1e7adf",
   "metadata": {},
   "outputs": [
    {
     "name": "stdout",
     "output_type": "stream",
     "text": [
      "frozenset({1, 2, 3, 4, 5})\n"
     ]
    }
   ],
   "source": [
    "# frozenset\n",
    "x = frozenset({1,2,3,4,5,5,5,})\n",
    "print(x)"
   ]
  },
  {
   "cell_type": "code",
   "execution_count": 24,
   "id": "4e18b3b7",
   "metadata": {},
   "outputs": [
    {
     "name": "stdout",
     "output_type": "stream",
     "text": [
      "<class 'bool'>\n",
      "<class 'bool'>\n",
      "True\n",
      "False\n"
     ]
    }
   ],
   "source": [
    "# boolean or bool\n",
    "x = True\n",
    "y = False\n",
    "print(type(x))\n",
    "print(type(y))\n",
    "print(x)\n",
    "print(y)"
   ]
  },
  {
   "cell_type": "code",
   "execution_count": 26,
   "id": "a237e453",
   "metadata": {},
   "outputs": [
    {
     "name": "stdout",
     "output_type": "stream",
     "text": [
      "b'4'\n"
     ]
    }
   ],
   "source": [
    "# bytes\n",
    "x = b\"4\"\n",
    "print(x)"
   ]
  },
  {
   "cell_type": "code",
   "execution_count": 27,
   "id": "ea3d62b4",
   "metadata": {},
   "outputs": [],
   "source": [
    "# bytearray\n",
    "x= bytearray(5)"
   ]
  },
  {
   "cell_type": "code",
   "execution_count": 28,
   "id": "92ad6d06",
   "metadata": {},
   "outputs": [],
   "source": [
    "# memoryview(bytes(5))\n"
   ]
  },
  {
   "cell_type": "code",
   "execution_count": 30,
   "id": "c0696ea3",
   "metadata": {},
   "outputs": [],
   "source": [
    "# NoneType\n",
    "x = None"
   ]
  },
  {
   "cell_type": "code",
   "execution_count": null,
   "id": "2acfe89d",
   "metadata": {},
   "outputs": [],
   "source": []
  }
 ],
 "metadata": {
  "kernelspec": {
   "display_name": "Python 3 (ipykernel)",
   "language": "python",
   "name": "python3"
  },
  "language_info": {
   "codemirror_mode": {
    "name": "ipython",
    "version": 3
   },
   "file_extension": ".py",
   "mimetype": "text/x-python",
   "name": "python",
   "nbconvert_exporter": "python",
   "pygments_lexer": "ipython3",
   "version": "3.9.12"
  }
 },
 "nbformat": 4,
 "nbformat_minor": 5
}
