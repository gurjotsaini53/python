{
 "cells": [
  {
   "cell_type": "code",
   "execution_count": 3,
   "id": "7a2f035f",
   "metadata": {},
   "outputs": [],
   "source": [
    "# single line comment "
   ]
  },
  {
   "cell_type": "code",
   "execution_count": null,
   "id": "4a0c722a",
   "metadata": {},
   "outputs": [],
   "source": [
    "\"\"\" \n",
    " mutliline comment \n",
    " \n",
    "\"\"\"\n",
    "# python ignore strings not associated with variable"
   ]
  }
 ],
 "metadata": {
  "kernelspec": {
   "display_name": "Python 3 (ipykernel)",
   "language": "python",
   "name": "python3"
  },
  "language_info": {
   "codemirror_mode": {
    "name": "ipython",
    "version": 3
   },
   "file_extension": ".py",
   "mimetype": "text/x-python",
   "name": "python",
   "nbconvert_exporter": "python",
   "pygments_lexer": "ipython3",
   "version": "3.9.12"
  }
 },
 "nbformat": 4,
 "nbformat_minor": 5
}
