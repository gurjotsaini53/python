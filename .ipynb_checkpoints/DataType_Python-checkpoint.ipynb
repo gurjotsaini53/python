{
 "cells": [
  {
   "cell_type": "markdown",
   "id": "867cc332",
   "metadata": {},
   "source": [
    "# Built in data type"
   ]
  },
  {
   "cell_type": "markdown",
   "id": "e7095f9f",
   "metadata": {},
   "source": [
    "1.text : str \n",
    "2.number : int , float , complex \n",
    "3.sequence : lists, tuple , range \n",
    "4.Mapping : set , frozenset \n",
    "5.Boolean : bool \n",
    "6.Binary Types: bytes, bytearray , memoryview \n",
    "7.None type : NoneType "
   ]
  },
  {
   "cell_type": "code",
   "execution_count": null,
   "id": "b55a646d",
   "metadata": {},
   "outputs": [],
   "source": []
  }
 ],
 "metadata": {
  "kernelspec": {
   "display_name": "Python 3 (ipykernel)",
   "language": "python",
   "name": "python3"
  },
  "language_info": {
   "codemirror_mode": {
    "name": "ipython",
    "version": 3
   },
   "file_extension": ".py",
   "mimetype": "text/x-python",
   "name": "python",
   "nbconvert_exporter": "python",
   "pygments_lexer": "ipython3",
   "version": "3.9.12"
  }
 },
 "nbformat": 4,
 "nbformat_minor": 5
}
